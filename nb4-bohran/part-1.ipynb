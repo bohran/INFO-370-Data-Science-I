{
 "cells": [
  {
   "cell_type": "markdown",
   "metadata": {},
   "source": [
    "# Does faculty salary vary by sex and/or rank?\n",
    "A visual and statistical (i.e., `t-test`) approach."
   ]
  },
  {
   "cell_type": "markdown",
   "metadata": {},
   "source": [
    "## Set up\n",
    "Let's begin by reading in some data from [this course website](http://data.princeton.edu/wws509/datasets/#salary). Columns included are:\n",
    "\n",
    "- **sx** = Sex, coded 1 for female and 0 for male\n",
    "- **rk** = Rank, coded\n",
    "    - 1 for assistant professor,\n",
    "    - 2 for associate professor, and\n",
    "    - 3 for full professor\n",
    "- **yr** = Number of years in current rank\n",
    "- **dg** = Highest degree, coded 1 if doctorate, 0 if masters\n",
    "- **yd** = Number of years since highest degree was earned\n",
    "- **sl** = Academic year salary, in dollars."
   ]
  },
  {
   "cell_type": "code",
   "execution_count": 2,
   "metadata": {},
   "outputs": [],
   "source": [
    "# Set up\n",
    "import numpy as np\n",
    "import pandas as pd\n",
    "import seaborn as sns # for visualiation\n",
    "import urllib.request # to load data\n",
    "from scipy import stats # ANOVA\n",
    "from scipy.stats import ttest_ind # t-tests\n",
    "import statsmodels.formula.api as smf # linear modeling\n",
    "import altair as alt\n",
    "alt.renderers.enable('notebook') # enable altair rendering\n",
    "import matplotlib.pyplot as plt # plotting (optional)\n",
    "%matplotlib inline "
   ]
  },
  {
   "cell_type": "code",
   "execution_count": 3,
   "metadata": {},
   "outputs": [],
   "source": [
    "# Read data from URL\n",
    "data = urllib.request.urlopen('http://data.princeton.edu/wws509/datasets/salary.dat')\n",
    "salary_data= pd.read_table(data, sep='\\s+')"
   ]
  },
  {
   "cell_type": "markdown",
   "metadata": {},
   "source": [
    "## Descriptive statistics by sex"
   ]
  },
  {
   "cell_type": "markdown",
   "metadata": {},
   "source": [
    "Before doing any statistical tests, you should get a basic feel for the sex breakdown in your dataset"
   ]
  },
  {
   "cell_type": "code",
   "execution_count": 6,
   "metadata": {},
   "outputs": [
    {
     "name": "stdout",
     "output_type": "stream",
     "text": [
      "38\n",
      "14\n"
     ]
    }
   ],
   "source": [
    "# What is the number of males/females in the dataset? What does this already tell you...?\n",
    "male = len(salary_data[salary_data['sx']=='male'])\n",
    "print(male)\n",
    "\n",
    "female = len(salary_data[salary_data['sx']=='female'])\n",
    "print(female)"
   ]
  },
  {
   "cell_type": "code",
   "execution_count": 7,
   "metadata": {},
   "outputs": [],
   "source": [
    "# What is the mean salary by sex? Hint: you'll have to groupby sex (`sx`)\n",
    "mean_salary = salary_data.groupby(['sx']).mean()\n"
   ]
  },
  {
   "cell_type": "code",
   "execution_count": 8,
   "metadata": {},
   "outputs": [
    {
     "data": {
      "text/plain": [
       "array([<matplotlib.axes._subplots.AxesSubplot object at 0x1a1381e828>,\n",
       "       <matplotlib.axes._subplots.AxesSubplot object at 0x1a13879cf8>],\n",
       "      dtype=object)"
      ]
     },
     "execution_count": 8,
     "metadata": {},
     "output_type": "execute_result"
    },
    {
     "data": {
      "image/png": "[encoded data removed]",
      "text/plain": [
       "<Figure size 432x288 with 2 Axes>"
      ]
     },
     "metadata": {},
     "output_type": "display_data"
    }
   ],
   "source": [
    "# Draw histograms for the distribution of salaries for males and females (either separately, or overlapping)\n",
    "# Hint: you can use the `.hist` method of a dataframe and specify what you want to separate *by*, or\n",
    "# Use altair to create a layered historgram (https://altair-viz.github.io/gallery/layered_histogram.html)\n",
    "salary_data[['sx', 'sl']].hist(by='sx')"
   ]
  },
  {
   "cell_type": "code",
   "execution_count": 9,
   "metadata": {},
   "outputs": [
    {
     "data": {
      "text/plain": [
       "<matplotlib.axes._subplots.AxesSubplot at 0x1a158d02e8>"
      ]
     },
     "execution_count": 9,
     "metadata": {},
     "output_type": "execute_result"
    },
    {
     "data": {
      "image/png": "[encoded data removed]",
      "text/plain": [
       "<Figure size 432x288 with 1 Axes>"
      ]
     },
     "metadata": {},
     "output_type": "display_data"
    }
   ],
   "source": [
    "# Create a boxplot of the salaries by sex (i.e., on one plot have boxes for each sex)\n",
    "# See an example here: https://seaborn.pydata.org/generated/seaborn.boxplot.html\n",
    "salary_data[['sx', 'sl']].boxplot(by='sx')"
   ]
  },
  {
   "cell_type": "code",
   "execution_count": 10,
   "metadata": {},
   "outputs": [
    {
     "data": {
      "text/plain": [
       "<matplotlib.axes._subplots.AxesSubplot at 0x1a15a45358>"
      ]
     },
     "execution_count": 10,
     "metadata": {},
     "output_type": "execute_result"
    },
    {
     "data": {
      "image/png": "[encoded data removed]",
      "text/plain": [
       "<Figure size 432x288 with 1 Axes>"
      ]
     },
     "metadata": {},
     "output_type": "display_data"
    }
   ],
   "source": [
    "# Another great way to see these two distributions is using a stripplot (jittered density plot)\n",
    "# Show salary distributions for males and females in a stripplot\n",
    "# Use the sns.stripplot method (https://seaborn.pydata.org/generated/seaborn.stripplot.html)\n",
    "sns.stripplot(x=salary_data['sx'], y=salary_data['sl'], jitter=True)"
   ]
  },
  {
   "cell_type": "markdown",
   "metadata": {},
   "source": [
    "## Test for a difference in means by sex\n",
    "Use a t-test to see if there is a significant difference in means"
   ]
  },
  {
   "cell_type": "code",
   "execution_count": 15,
   "metadata": {},
   "outputs": [
    {
     "data": {
      "text/plain": [
       "Ttest_indResult(statistic=1.8474402832932844, pvalue=0.07060393644390568)"
      ]
     },
     "execution_count": 15,
     "metadata": {},
     "output_type": "execute_result"
    }
   ],
   "source": [
    "# Use the `ttest_ind` method to perform a t-test assessing differences in salary for male/female faculty\n",
    "# (you may find it helpful to create separate data frames for the male and female observations -- optional)\n",
    "males = salary_data[salary_data['sx']=='male']\n",
    "females = salary_data[salary_data['sx']=='female']\n",
    "stats.ttest_ind(males['sl'], females['sl'])"
   ]
  },
  {
   "cell_type": "markdown",
   "metadata": {},
   "source": [
    "### Write an interpretation of the results of your t-test here"
   ]
  },
  {
   "cell_type": "markdown",
   "metadata": {},
   "source": [
    "## Descriptive Statistics by Rank"
   ]
  },
  {
   "cell_type": "code",
   "execution_count": 16,
   "metadata": {},
   "outputs": [
    {
     "data": {
      "text/plain": [
       "array([[<matplotlib.axes._subplots.AxesSubplot object at 0x1a15d61240>,\n",
       "        <matplotlib.axes._subplots.AxesSubplot object at 0x1a15d99400>],\n",
       "       [<matplotlib.axes._subplots.AxesSubplot object at 0x1a15dc1a90>,\n",
       "        <matplotlib.axes._subplots.AxesSubplot object at 0x1a15de9f60>]],\n",
       "      dtype=object)"
      ]
     },
     "execution_count": 16,
     "metadata": {},
     "output_type": "execute_result"
    },
    {
     "data": {
      "image/png": "[encoded data removed]",
      "text/plain": [
       "<Figure size 432x288 with 4 Axes>"
      ]
     },
     "metadata": {},
     "output_type": "display_data"
    }
   ],
   "source": [
    "# Draw histograms for the distribution of salaries by rank (`rk`)\n",
    "# Again, you can choose to make separate historgrams, or overlay them\n",
    "\n",
    "salary_data[['rk', 'sl']].hist(by='rk')"
   ]
  },
  {
   "cell_type": "markdown",
   "metadata": {},
   "source": [
    "## Test for differences in means by rank"
   ]
  },
  {
   "cell_type": "markdown",
   "metadata": {},
   "source": [
    "First, we'll want to leverage the **t-test** to test for differences by rank. To do this, we'll need to take the rank variable `rk` (which has **3 categories**) and use it to define a _new variable_ that has only **two categories** (full professor, and _not_ full professor). Once create these two groupings (full professors, not full professors),  you can perform a t-test to assess the difference in salary between the two groups."
   ]
  },
  {
   "cell_type": "code",
   "execution_count": 19,
   "metadata": {},
   "outputs": [
    {
     "data": {
      "text/plain": [
       "Ttest_indResult(statistic=9.13361444071646, pvalue=3.0965017065059518e-12)"
      ]
     },
     "execution_count": 19,
     "metadata": {},
     "output_type": "execute_result"
    }
   ],
   "source": [
    "# Create a new column representing this new grouping of faculty (full, not_full)\n",
    "full = salary_data[salary_data['rk']=='full']\n",
    "not_full = salary_data[salary_data['rk']!='full']\n",
    "\n",
    "# Use a t-test to asssess the difference in mean salary between these two groups\n",
    "stats.ttest_ind(full['sl'], not_full['sl'])"
   ]
  },
  {
   "cell_type": "markdown",
   "metadata": {},
   "source": [
    "### Write an interpretation of the results of your t-test here"
   ]
  },
  {
   "cell_type": "markdown",
   "metadata": {},
   "source": [
    "Alternatively, we could use an **Analysis of Variance (ANOVA)** test (an extension of the t-test) to assess the statistical significance in differences across the three faculty rankings (assistant, associate, full). To do this, simply pass 3 (or more!) sets of data into the `stats.f_oneway()` method to check for the significance of difference in means across groups. Your interpretation of the p-value will be the same as for the t-test. "
   ]
  },
  {
   "cell_type": "code",
   "execution_count": 20,
   "metadata": {},
   "outputs": [
    {
     "data": {
      "text/plain": [
       "F_onewayResult(statistic=83.42291275166428, pvalue=3.0965017065059457e-12)"
      ]
     },
     "execution_count": 20,
     "metadata": {},
     "output_type": "execute_result"
    }
   ],
   "source": [
    "# Use the ANOVA method to test for differences in means by rank (this time, all 3 ranks)\n",
    "# Specifically, Uue the `stats.f_oneway` method to perform the test\n",
    "# You may find it helpful to break the data into separate data frames first (optional)\n",
    "\n",
    "stats.f_oneway(full['sl'], not_full['sl'])"
   ]
  },
  {
   "cell_type": "markdown",
   "metadata": {},
   "source": [
    "### Write an interpretation of the results of your t-test here"
   ]
  },
  {
   "cell_type": "markdown",
   "metadata": {},
   "source": [
    "## How does salary (`sl`) compare to years since degress (`yd`) and years in current rank (`yr`)?"
   ]
  },
  {
   "cell_type": "code",
   "execution_count": 21,
   "metadata": {},
   "outputs": [
    {
     "data": {
      "text/plain": [
       "<matplotlib.legend.Legend at 0x1a15f4dcf8>"
      ]
     },
     "execution_count": 21,
     "metadata": {},
     "output_type": "execute_result"
    },
    {
     "data": {
      "image/png": "[encoded data removed]",
      "text/plain": [
       "<Figure size 432x288 with 1 Axes>"
      ]
     },
     "metadata": {},
     "output_type": "display_data"
    }
   ],
   "source": [
    "# Create scatterplots to show how salary (`sl`) compares to years since degree (`yd`) / in current rank (`yr`)\n",
    "# Ideally, place these adjacent to one another (not required, but it's a good skill to learn)\n",
    "p1 = plt.scatter(x=salary_data['yr'], y=salary_data['sl'], label='Current Rank')\n",
    "p2 = plt.scatter(x=salary_data['yd'], y=salary_data['sl'], label='Years Since Degree')\n",
    "plt.legend(handles=[p1, p2])"
   ]
  },
  {
   "cell_type": "markdown",
   "metadata": {},
   "source": [
    "## How does salary vary across rank and sex?\n",
    "To view this continuous variable (`sl`) broken down by two categorical variables (`rk` and `sx`), create the following graphics. It may help to sketch these first (by hand) to make sure you know what visual layout you are trying to make. Once you figure that out, review the documentation for the visualization package of your choice, keeping an eye out for ways to `facet` the charts."
   ]
  },
  {
   "cell_type": "code",
   "execution_count": 22,
   "metadata": {},
   "outputs": [
    {
     "data": {
      "text/plain": [
       "<seaborn.axisgrid.PairGrid at 0x1a15f76ef0>"
      ]
     },
     "execution_count": 22,
     "metadata": {},
     "output_type": "execute_result"
    },
    {
     "data": {
      "image/png": "[encoded data removed]",
      "text/plain": [
       "<Figure size 756x504 with 2 Axes>"
      ]
     },
     "metadata": {},
     "output_type": "display_data"
    }
   ],
   "source": [
    "# For each rank, show the distribution of salary (`sl`) for each sex (`sx`)\n",
    "# For example, you could have three charts (one for each faculty ranking), and for each one, show \n",
    "# a stripplot/histogram/boxbplot/violinplot with different markers for each sex \n",
    "g = sns.PairGrid(salary_data,x_vars=['sx','rk'],\n",
    "                   y_vars=['sl'],\n",
    "                 aspect=.75, size=7)\n",
    "g.map(plt.scatter)"
   ]
  },
  {
   "cell_type": "code",
   "execution_count": 24,
   "metadata": {},
   "outputs": [
    {
     "data": {
      "text/plain": [
       "<seaborn.axisgrid.FacetGrid at 0x1a161d41d0>"
      ]
     },
     "execution_count": 24,
     "metadata": {},
     "output_type": "execute_result"
    },
    {
     "data": {
      "image/png": "[encoded data removed]",
      "text/plain": [
       "<Figure size 864x288 with 3 Axes>"
      ]
     },
     "metadata": {},
     "output_type": "display_data"
    }
   ],
   "source": [
    "# For each sex, show the distribution of salary (`sl`) for each rank (`rk`)\n",
    "# For example, you could have two charts (one for males, one for females), and for each one, show \n",
    "# a stripplot/histogram/boxbplot/violinplot with different markers for each rank\n",
    "sns.factorplot(x = 'sx', y = 'sl', col = 'rk', data = salary_data, kind = \"strip\", jitter = True)\n",
    "\n",
    "\n"
   ]
  },
  {
   "cell_type": "markdown",
   "metadata": {
    "collapsed": true
   },
   "source": [
    "### Write an interpretation of the results of your t-test here\n",
    "What do these charts tell you about sex discrimination on the faculty?\n",
    "\n",
    "```These charts suggest that women make less money than males do for the same job```"
   ]
  },
  {
   "cell_type": "code",
   "execution_count": null,
   "metadata": {},
   "outputs": [],
   "source": []
  }
 ],
 "metadata": {
  "anaconda-cloud": {},
  "kernelspec": {
   "display_name": "Python 3",
   "language": "python",
   "name": "python3"
  },
  "language_info": {
   "codemirror_mode": {
    "name": "ipython",
    "version": 3
   },
   "file_extension": ".py",
   "mimetype": "text/x-python",
   "name": "python",
   "nbconvert_exporter": "python",
   "pygments_lexer": "ipython3",
   "version": "3.6.5"
  }
 },
 "nbformat": 4,
 "nbformat_minor": 1
}
